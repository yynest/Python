{
 "cells": [
  {
   "cell_type": "code",
   "execution_count": null,
   "metadata": {},
   "outputs": [],
   "source": [
    "print(111)"
   ]
  },
  {
   "cell_type": "code",
   "execution_count": null,
   "metadata": {},
   "outputs": [],
   "source": [
    "'''\n",
    "题目：有四个数字：1、2、3、4，能组成多少个互不相同且无重复数字的三位数？各是多少？\n",
    "程序分析：可填在百位、十位、个位的数字都是1、2、3、4。组成所有的排列后再去 掉不满足条件的排列。\n",
    "程序源代码：\n",
    "'''\n",
    "r = 0\n",
    "for i in range(1,5):\n",
    "    for j in range(1,5):\n",
    "        for k in range(1,5):\n",
    "            if(i != j and i != k and j != k):\n",
    "                r += 1\n",
    "                print('第',r,'个:',+i,j,k)\n",
    "    "
   ]
  },
  {
   "cell_type": "code",
   "execution_count": null,
   "metadata": {},
   "outputs": [],
   "source": [
    "'''\n",
    "题目：企业发放的奖金根据利润提成。利润(I)低于或等于10万元时，奖金可提10%；利润高于10万元，低于20万元时，\n",
    "低于10万元的部分按10%提成，高于10万元的部分，可提成7.5%；20万到40万之间时，高于20万元的部分，可提成5%；\n",
    "40万到60万之间时高于40万元的部分，可提成3%；60万到100万之间时，高于60万元的部分，可提成1.5%，高于100万\n",
    "元时，超过100万元的部分按1%提成，从键盘输入当月利润I，求应发放奖金总数？\n",
    "程序分析：请利用数轴来分界，定位。注意定义时需把奖金定义成长整型。\n",
    "'''\n",
    "\n",
    "profit = int(input(\"输入利润：\"))\n",
    "\n",
    "section = [1000000,600000,400000,200000,100000,0]\n",
    "rat = [0.01,0.015,0.03,0.05,0.075,0.1]\n",
    "r = 0\n",
    "for i in range(0,6):\n",
    "    if profit > section[i]:\n",
    "        sec = section[i]\n",
    "        p = (profit - sec) * rat[i]\n",
    "        r += p\n",
    "        print(i+1,\"、超过\",sec,\"的奖金是:\",p)\n",
    "        profit = sec\n",
    "print('奖金总数:',r)"
   ]
  },
  {
   "cell_type": "code",
   "execution_count": null,
   "metadata": {},
   "outputs": [],
   "source": [
    "'''\n",
    "题目：输入某年某月某日，判断这一天是这一年的第几天？\n",
    "程序分析：以3月5日为例，应该先把前两个月的加起来，然后再加上5天即本年的第几天，\n",
    "特殊情况，闰年且输入月份大于2时需考虑多加一天\n",
    "'''\n",
    "year = int(input(\"输入年份\"))\n",
    "#月份\n",
    "month  = int(input(\"输入月份\"))\n",
    "while (month<1 or month>13):\n",
    "    month  = int(input(\"输入月份不对，请重新输入\"))\n",
    "#日期\n",
    "days = (31,28,31,30,31,30,31,31,30,31,30,31)\n",
    "day = int(input(\"输入日期\"))\n",
    "while (day<1 or day>days[month-1]):\n",
    "    day  = int(input(\"输入日期不对，请重新输入\"))\n",
    "\n",
    "#天数\n",
    "months = (0,31,59,60,90,121,151,182,213,243,274,304,334)\n",
    "\n",
    "if (0<month< 12):\n",
    "    sum = months[month-1] + day\n",
    "else :\n",
    "    print(\"输入的月份不对\")\n",
    "    \n",
    "lead = 0\n",
    "if ((year%400 == 0) or (year%4 == 0 and year %100 != 0)):\n",
    "    lead = 1\n",
    "if(month > 2):\n",
    "    sum += lead\n",
    "    \n",
    "print(\"输入的日期是第\",sum,\"天\")\n"
   ]
  },
  {
   "cell_type": "code",
   "execution_count": null,
   "metadata": {},
   "outputs": [],
   "source": [
    "\n",
    "print(9/2)\n",
    "print(9%2)\n",
    "9//2"
   ]
  },
  {
   "cell_type": "code",
   "execution_count": null,
   "metadata": {},
   "outputs": [],
   "source": [
    "'''\n",
    "题目：输入三个整数x,y,z，请把这三个数由小到大输出。\n",
    "'''\n",
    "array = []\n",
    "for i in range(0,5):\n",
    "    x = int(input(\"输入个数字\"))\n",
    "    array.append(x)\n",
    "array.sort()\n",
    "\n",
    "print(array)"
   ]
  },
  {
   "cell_type": "code",
   "execution_count": 29,
   "metadata": {},
   "outputs": [
    {
     "name": "stdout",
     "output_type": "stream",
     "text": [
      "--\n",
      "1*1=1\n",
      "--\n",
      "2*1=2\n",
      "2*2=4\n",
      "--\n",
      "3*1=3\n",
      "3*2=6\n",
      "3*3=9\n",
      "--\n",
      "4*1=4\n",
      "4*2=8\n",
      "4*3=12\n",
      "4*4=16\n"
     ]
    }
   ],
   "source": [
    "'''\n",
    "题目：输出 9*9 乘法口诀表。\n",
    "程序分析：分行与列考虑，共9行9列，i控制行，j控制列。\n",
    "'''\n",
    "for i in range(1,5):\n",
    "    print(\"--\")\n",
    "    for j in range(1,i+1):\n",
    "        print(\"%d*%d=%d\" % (i, j, i*j)) \n"
   ]
  },
  {
   "cell_type": "code",
   "execution_count": 34,
   "metadata": {},
   "outputs": [
    {
     "name": "stdout",
     "output_type": "stream",
     "text": [
      "a 1\n",
      "b 2\n"
     ]
    }
   ],
   "source": [
    "'''\n",
    "time.sleep(3)睡眠3秒\n",
    "'''\n",
    "import time\n",
    "\n",
    "dic = {'a':1,'b':2}\n",
    "for key, value in dict.items(dic):\n",
    "    print(key, value)\n",
    "    time.sleep(3)"
   ]
  },
  {
   "cell_type": "code",
   "execution_count": 46,
   "metadata": {},
   "outputs": [
    {
     "name": "stdout",
     "output_type": "stream",
     "text": [
      "time.struct_time(tm_year=2019, tm_mon=6, tm_mday=5, tm_hour=15, tm_min=54, tm_sec=6, tm_wday=2, tm_yday=156, tm_isdst=0)\n",
      "2019-06-05 15:54:06\n"
     ]
    }
   ],
   "source": [
    "import time\n",
    "localTime = time.localtime(time.time())\n",
    "print(localTime)\n",
    "\n",
    "time.sleep(2)\n",
    "print(time.strftime('%Y-%m-%d %H:%M:%S',localTime))"
   ]
  },
  {
   "cell_type": "code",
   "execution_count": 48,
   "metadata": {},
   "outputs": [
    {
     "name": "stdout",
     "output_type": "stream",
     "text": [
      "水仙花数: 153\n",
      "水仙花数: 370\n",
      "水仙花数: 371\n",
      "水仙花数: 407\n"
     ]
    }
   ],
   "source": [
    "'''\n",
    "水仙花数\n",
    "'''\n",
    "for i in range (100,999):\n",
    "    n = i//100\n",
    "    m = i//10%10\n",
    "    l = i%10\n",
    "    #print(n,m,l)\n",
    "    if i == n**3+m**3+l**3:\n",
    "        print(\"水仙花数:\",i)\n",
    "    "
   ]
  },
  {
   "cell_type": "code",
   "execution_count": 50,
   "metadata": {},
   "outputs": [
    {
     "name": "stdout",
     "output_type": "stream",
     "text": [
      "1534\n"
     ]
    }
   ],
   "source": [
    "'''\n",
    "猴子吃桃\n",
    "'''\n",
    "x2 = 1\n",
    "for day in range(9,0,-1):\n",
    "    x1 = (x2+1)*2\n",
    "    x2 = x1\n",
    "    \n",
    "print(x2)"
   ]
  },
  {
   "cell_type": "code",
   "execution_count": null,
   "metadata": {},
   "outputs": [],
   "source": []
  }
 ],
 "metadata": {
  "kernelspec": {
   "display_name": "Python 3",
   "language": "python",
   "name": "python3"
  },
  "language_info": {
   "codemirror_mode": {
    "name": "ipython",
    "version": 3
   },
   "file_extension": ".py",
   "mimetype": "text/x-python",
   "name": "python",
   "nbconvert_exporter": "python",
   "pygments_lexer": "ipython3",
   "version": "3.7.3"
  }
 },
 "nbformat": 4,
 "nbformat_minor": 2
}
